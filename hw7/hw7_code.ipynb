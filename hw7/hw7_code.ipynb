{
 "cells": [
  {
   "cell_type": "code",
   "execution_count": 53,
   "metadata": {},
   "outputs": [],
   "source": [
    "import numpy as np"
   ]
  },
  {
   "cell_type": "markdown",
   "metadata": {},
   "source": [
    "# Problem 3"
   ]
  },
  {
   "cell_type": "code",
   "execution_count": 54,
   "metadata": {},
   "outputs": [],
   "source": [
    "X_train = np.array([-0.9, -0.7, -0.5, -0.3, -0.1, 0.1, 0.3, 0.5, 0.7, 0.9])\n",
    "y_train = np.array([0.81, 0.49, 0.25, 0.09, 0.01, 0.01, 0.09, 0.25, 0.49, 0.81])\n",
    "\n",
    "X_test = np.array([0, 0.4])\n",
    "y_test = np.array([0, 0.16])"
   ]
  },
  {
   "cell_type": "markdown",
   "metadata": {},
   "source": [
    "## Part a)"
   ]
  },
  {
   "cell_type": "code",
   "execution_count": 55,
   "metadata": {},
   "outputs": [],
   "source": [
    "def y_hat_unweighted(y):\n",
    "    return np.average(y)"
   ]
  },
  {
   "cell_type": "code",
   "execution_count": 56,
   "metadata": {},
   "outputs": [
    {
     "name": "stdout",
     "output_type": "stream",
     "text": [
      "Since y_hat depends only on the y vector, not on x, we know that y_hat(0.0) = y_hat(0.4) = 0.33.\n"
     ]
    }
   ],
   "source": [
    "res = y_hat_unweighted(y_train)\n",
    "print(f'Since y_hat depends only on the y vector, not on x, we know that y_hat({X_test[0]}) = y_hat({X_test[1]}) = {res}.')"
   ]
  },
  {
   "cell_type": "markdown",
   "metadata": {},
   "source": [
    "# Part b)"
   ]
  },
  {
   "cell_type": "code",
   "execution_count": 57,
   "metadata": {},
   "outputs": [],
   "source": [
    "def MSE(y_true, y_pred):\n",
    "    return np.sum(np.power(y_true-y_pred, 2))/np.size(y_true)"
   ]
  },
  {
   "cell_type": "code",
   "execution_count": 58,
   "metadata": {},
   "outputs": [
    {
     "name": "stdout",
     "output_type": "stream",
     "text": [
      "The MSE on the test set predictions is: 0.0689\n"
     ]
    }
   ],
   "source": [
    "y_pred = np.array([res, res])\n",
    "mse = MSE(y_test, y_pred)\n",
    "print(f'The MSE on the test set predictions is: {mse}')"
   ]
  },
  {
   "cell_type": "markdown",
   "metadata": {},
   "source": [
    "## Part c)"
   ]
  },
  {
   "cell_type": "code",
   "execution_count": 59,
   "metadata": {},
   "outputs": [
    {
     "name": "stdout",
     "output_type": "stream",
     "text": [
      "The predicted value, y_hat, for x = 0.0 using kernel regression is: 0.13\n",
      "The predicted value, y_hat, for x = 0.4 using kernel regression is: 0.25222222222222224\n"
     ]
    }
   ],
   "source": [
    "def compute_kernels(X_train, X_test):\n",
    "    diffs = X_test[:, np.newaxis]-X_train\n",
    "    max_diffs = np.amax(diffs, axis=1)\n",
    "\n",
    "    l2s = np.sqrt(np.power(diffs, 2))\n",
    "    return 1-l2s/max_diffs[:, np.newaxis]\n",
    "\n",
    "def y_hat_weighted(weights, y):\n",
    "    num = np.sum(weights*y, axis=1)\n",
    "    denom = np.sum(weights, axis=1)\n",
    "    return num/denom\n",
    "\n",
    "weights = compute_kernels(X_train, X_test)\n",
    "y_hats = y_hat_weighted(weights, y_train)\n",
    "for x, y_hat in zip(X_test, y_hats):\n",
    "    print(f'The predicted value, y_hat, for x = {x} using kernel regression is: {y_hat}')"
   ]
  },
  {
   "cell_type": "code",
   "execution_count": 60,
   "metadata": {},
   "outputs": [
    {
     "name": "stdout",
     "output_type": "stream",
     "text": [
      "The MSE on the test set predictions is: 0.012702469135802471\n"
     ]
    }
   ],
   "source": [
    "mse = MSE(y_test, y_hats)\n",
    "print(f'The MSE on the test set predictions is: {mse}')"
   ]
  }
 ],
 "metadata": {
  "interpreter": {
   "hash": "c56ca3609d35666c535b21e8eca1bf907b12d90c8862756640afa76760a7a6be"
  },
  "kernelspec": {
   "display_name": "Python 3.8.5 ('base')",
   "language": "python",
   "name": "python3"
  },
  "language_info": {
   "codemirror_mode": {
    "name": "ipython",
    "version": 3
   },
   "file_extension": ".py",
   "mimetype": "text/x-python",
   "name": "python",
   "nbconvert_exporter": "python",
   "pygments_lexer": "ipython3",
   "version": "3.8.5"
  },
  "orig_nbformat": 4
 },
 "nbformat": 4,
 "nbformat_minor": 2
}
