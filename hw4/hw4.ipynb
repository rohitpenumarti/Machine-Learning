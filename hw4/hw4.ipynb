{
 "cells": [
  {
   "cell_type": "code",
   "execution_count": 162,
   "metadata": {},
   "outputs": [],
   "source": [
    "import random\n",
    "import numpy as np\n",
    "import pandas as pd\n",
    "from plotDecBoundaries import plotDecBoundaries as pDB"
   ]
  },
  {
   "cell_type": "markdown",
   "metadata": {},
   "source": [
    "# Problem 2"
   ]
  },
  {
   "cell_type": "code",
   "execution_count": 163,
   "metadata": {},
   "outputs": [],
   "source": [
    "syn_train_df1 = pd.read_csv('synthetic1_train.csv', header=None)\n",
    "syn_test_df1 = pd.read_csv('synthetic1_test.csv', header=None)\n",
    "syn1_train = syn_train_df1.to_numpy()\n",
    "syn1_test = syn_test_df1.to_numpy()\n",
    "\n",
    "syn_train_df2 = pd.read_csv('synthetic2_train.csv', header=None)\n",
    "syn_test__df2 = pd.read_csv('synthetic2_test.csv', header=None)\n",
    "syn2_train = syn_train_df2.to_numpy()\n",
    "syn2_test = syn_test__df2.to_numpy()"
   ]
  },
  {
   "cell_type": "code",
   "execution_count": 165,
   "metadata": {},
   "outputs": [],
   "source": [
    "class Perceptron:\n",
    "\n",
    "    def __init__(self, X_train, y_train, X_test, y_test, n_iter=10000):\n",
    "        self.X_train = X_train\n",
    "        self.y_train = y_train\n",
    "        self.X_test = X_test\n",
    "        self.y_test = y_test\n",
    "        self.n_iter = n_iter\n",
    "\n",
    "    def _initialize(self):\n",
    "        self.w = np.zeros((self.X_train.shape[1],))\n",
    "        \n",
    "        a = 0.1\n",
    "        self.w += a\n",
    "\n",
    "        categs = np.unique(self.y_train)\n",
    "        self.z = np.array([1 if val == categs[0] else -1 for val in self.y_train])\n",
    "\n",
    "    def _criterion(self, w_):\n",
    "        sum = 0\n",
    "        for x, z in zip(self.X_train, self.z):\n",
    "            cond = z*np.matmul(w_.T, x)\n",
    "            indicator = (cond <= 0)*cond\n",
    "            sum += indicator\n",
    "        \n",
    "        return -1*sum\n",
    "\n",
    "    def _shuffle(self):\n",
    "        idx = random.sample(range(self.X_train.shape[0]), self.X_train.shape[0])\n",
    "\n",
    "        temp_X = np.take(self.X_train, idx, axis=0)\n",
    "        temp_y = np.take(self.y_train, idx)\n",
    "        temp_z = np.take(self.z, idx)\n",
    "\n",
    "        self.X_train = temp_X\n",
    "        self.y = temp_y\n",
    "        self.z = temp_z\n",
    "\n",
    "    def fit(self, tol=1e-10):\n",
    "        self._initialize()\n",
    "        self._shuffle()\n",
    "        m = 1\n",
    "        eta = 1\n",
    "\n",
    "        last_500_w = []\n",
    "        last_500_crit = []\n",
    "        prev_w = np.zeros(self.w.shape)\n",
    "        last_w = np.zeros(self.w.shape)\n",
    "        best_w = np.zeros(self.w.shape)\n",
    "        min_crit = 1e10\n",
    "        converged = False\n",
    "\n",
    "        while not np.allclose(prev_w, self.w, atol=tol):\n",
    "            prev_w = np.copy(self.w)\n",
    "            i_copy = 0\n",
    "            for n, (x, z) in enumerate(zip(self.X_train, self.z)):\n",
    "                i = (m-1)*self.X_train.shape[0]+n\n",
    "                i_copy = i\n",
    "                if self.n_iter-500 <= i < self.n_iter:\n",
    "                    last_500_w.append(self.w)\n",
    "                    last_500_crit.append(self._criterion(self.w))\n",
    "                elif i == self.n_iter:\n",
    "                    min_crit = min(last_500_crit)\n",
    "                    min_idx = last_500_crit.index(min_crit)\n",
    "                    best_w = last_500_w[min_idx]\n",
    "                    last_w = prev_w\n",
    "                    break\n",
    "\n",
    "                cond = (z*np.matmul(self.w.T, x) <= 0)\n",
    "                self.w += eta*z*x*cond\n",
    "\n",
    "                if abs(self._criterion(self.w) - 0) <= tol:\n",
    "                    print('data is linearly separable')\n",
    "                    prev_w = np.copy(self.w)\n",
    "                    best_w = np.copy(self.w)\n",
    "                    min_crit = self._criterion(best_w)\n",
    "                    converged = True\n",
    "                    break\n",
    "            \n",
    "            m += 1\n",
    "\n",
    "            if i_copy == self.n_iter:\n",
    "                if np.allclose(last_w, self.w, atol=tol):\n",
    "                    converged = True\n",
    "                    break\n",
    "            elif i_copy < self.n_iter:\n",
    "                if np.allclose(prev_w, self.w, atol=tol):\n",
    "                    converged = True\n",
    "                    break\n",
    "            else:\n",
    "                converged = False\n",
    "                break\n",
    "\n",
    "        return best_w, min_crit, converged\n",
    "\n",
    "    def predict(self, best_w, X):\n",
    "        y_pred = np.zeros((X.shape[0],))\n",
    "        categs = np.unique(self.y_train)\n",
    "        for i, x in enumerate(X):\n",
    "            cond = np.matmul(best_w.T, x)\n",
    "            if cond > 0:\n",
    "                y_pred[i] = categs[0]\n",
    "            else:\n",
    "                y_pred[i] = categs[1]\n",
    "\n",
    "        return y_pred\n",
    "\n",
    "    def error(self, y_pred, y_true):\n",
    "        num = 0\n",
    "        for yp, yt in zip(y_pred, y_true):\n",
    "            if yp != yt:\n",
    "                num += 1\n",
    "\n",
    "        return num/np.size(y_pred)"
   ]
  },
  {
   "cell_type": "markdown",
   "metadata": {},
   "source": [
    "## Part a)"
   ]
  },
  {
   "cell_type": "code",
   "execution_count": 166,
   "metadata": {},
   "outputs": [
    {
     "data": {
      "image/png": "[encoded data removed]",
      "text/plain": [
       "<Figure size 432x288 with 1 Axes>"
      ]
     },
     "metadata": {
      "needs_background": "light"
     },
     "output_type": "display_data"
    },
    {
     "name": "stdout",
     "output_type": "stream",
     "text": [
      "The best resulting weight vector is [-40.29586  41.90496].\n",
      "The best resulting criterion value is 44.7838445159999.\n",
      "The algorithm converged.\n",
      "The training error rate on the first synthetic dataset is: 0.03\n",
      "The testing error rate on the first synthetic dataset is: 0.03\n"
     ]
    }
   ],
   "source": [
    "X_train_syn1 = syn1_train[:, :2]\n",
    "y_train_syn1 = syn1_train[:, 2]\n",
    "\n",
    "X_test_syn1 = syn1_test[:, :2]\n",
    "y_test_syn1 = syn1_test[:, 2]\n",
    "\n",
    "pc = Perceptron(X_train_syn1, y_train_syn1, X_test_syn1, y_test_syn1)\n",
    "best_w, min_crit, converged = pc.fit()\n",
    "y_pred_train = pc.predict(best_w, X_train_syn1)\n",
    "y_pred_test = pc.predict(best_w, X_test_syn1)\n",
    "train_error_rate1 = pc.error(y_pred_train, y_train_syn1)\n",
    "test_error_rate1 = pc.error(y_pred_test, y_test_syn1)\n",
    "\n",
    "pDB(X_train_syn1, y_train_syn1, best_w)\n",
    "\n",
    "print(f\"The best resulting weight vector is {best_w}.\\nThe best resulting criterion value is {min_crit}.\")\n",
    "if converged:\n",
    "    print(\"The algorithm converged.\")\n",
    "else:\n",
    "    print(\"The algorithm halted without convergence.\")\n",
    "\n",
    "print(f\"The training error rate on the first synthetic dataset is: {train_error_rate1}\")\n",
    "print(f\"The testing error rate on the first synthetic dataset is: {test_error_rate1}\")"
   ]
  },
  {
   "cell_type": "markdown",
   "metadata": {},
   "source": [
    "## Part b)"
   ]
  },
  {
   "cell_type": "code",
   "execution_count": 167,
   "metadata": {},
   "outputs": [
    {
     "data": {
      "image/png": "[encoded data removed]",
      "text/plain": [
       "<Figure size 432x288 with 1 Axes>"
      ]
     },
     "metadata": {
      "needs_background": "light"
     },
     "output_type": "display_data"
    },
    {
     "name": "stdout",
     "output_type": "stream",
     "text": [
      "The best resulting weight vector is [-2.9823   13.022124].\n",
      "The best resulting criterion value is 6.570271306356059.\n",
      "The algorithm converged.\n",
      "The training error rate on the second synthetic dataset is: 0.03\n",
      "The testing error rate on the second synthetic dataset is: 0.03\n"
     ]
    }
   ],
   "source": [
    "X_train_syn2 = syn2_train[:, :2]\n",
    "y_train_syn2 = syn2_train[:, 2]\n",
    "\n",
    "X_test_syn2 = syn2_test[:, :2]\n",
    "y_test_syn2 = syn2_test[:, 2]\n",
    "\n",
    "pc = Perceptron(X_train_syn2, y_train_syn2, X_test_syn2, y_test_syn2)\n",
    "best_w, min_crit, converged = pc.fit()\n",
    "y_pred_train = pc.predict(best_w, X_train_syn2)\n",
    "y_pred_test = pc.predict(best_w, X_test_syn2)\n",
    "train_error_rate2 = pc.error(y_pred_train, y_train_syn2)\n",
    "test_error_rate2 = pc.error(y_pred_test, y_test_syn2)\n",
    "\n",
    "pDB(X_train_syn2, y_train_syn2, best_w)\n",
    "\n",
    "print(f\"The best resulting weight vector is {best_w}.\\nThe best resulting criterion value is {min_crit}.\")\n",
    "if converged:\n",
    "    print(\"The algorithm converged.\")\n",
    "else:\n",
    "    print(\"The algorithm halted without convergence.\")\n",
    "\n",
    "print(f\"The training error rate on the second synthetic dataset is: {train_error_rate2}\")\n",
    "print(f\"The testing error rate on the second synthetic dataset is: {test_error_rate2}\")"
   ]
  },
  {
   "cell_type": "markdown",
   "metadata": {},
   "source": [
    "## Part c)"
   ]
  },
  {
   "cell_type": "code",
   "execution_count": 172,
   "metadata": {},
   "outputs": [
    {
     "name": "stdout",
     "output_type": "stream",
     "text": [
      "The best resulting weight vector is [ -2878.1     -374.28    -318.24   -6530.9   -15548.9     -327.39\n",
      "    139.64    -130.1     -123.14     117.45    -221.658   -339.94\n",
      "   2316.1  ].\n",
      "The best resulting criterion value is 1065449.4791199996.\n",
      "The algorithm halted without convergence.\n",
      "The training error rate on the wine dataset is: 0.07692307692307693\n",
      "The testing error rate on the wine dataset is: 0.13846153846153847\n"
     ]
    }
   ],
   "source": [
    "wine_train_df = pd.read_csv('wine_train.csv', header=None)\n",
    "wine_test_df = pd.read_csv('wine_test.csv', header=None)\n",
    "wine_train = wine_train_df.to_numpy()\n",
    "wine_test = wine_test_df.to_numpy()\n",
    "\n",
    "X_train_wine = wine_train[:, :13][np.logical_or(wine_train[:, 13] == 1, wine_train[:, 13] == 2)]\n",
    "y_train_wine = wine_train[:, 13][np.logical_or(wine_train[:, 13] == 1, wine_train[:, 13] == 2)]\n",
    "\n",
    "X_test_wine = wine_test[:, :13][np.logical_or(wine_test[:, 13] == 1, wine_test[:, 13] == 2)]\n",
    "y_test_wine = wine_test[:, 13][np.logical_or(wine_test[:, 13] == 1, wine_test[:, 13] == 2)]\n",
    "\n",
    "pc = Perceptron(X_train_wine, y_train_wine, X_test_wine, y_test_wine)\n",
    "best_w, min_crit, converged = pc.fit()\n",
    "y_pred_train = pc.predict(best_w, X_train_wine)\n",
    "y_pred_test = pc.predict(best_w, X_test_wine)\n",
    "train_error_rate = pc.error(y_pred_train, y_train_wine)\n",
    "test_error_rate = pc.error(y_pred_test, y_test_wine)\n",
    "\n",
    "print(f\"The best resulting weight vector is {best_w}.\\nThe best resulting criterion value is {min_crit}.\")\n",
    "if converged:\n",
    "    print(\"The algorithm converged.\")\n",
    "else:\n",
    "    print(\"The algorithm halted without convergence.\")\n",
    "\n",
    "print(f\"The training error rate on the wine dataset is: {train_error_rate}\")\n",
    "print(f\"The testing error rate on the wine dataset is: {test_error_rate}\")"
   ]
  },
  {
   "cell_type": "markdown",
   "metadata": {},
   "source": [
    "# The data is not linearly separable. This is evident because the criterion function never gets close to zero when evaluated with the last 500 iterations. Furthermore, if the data were linearly separable, then the criterion function would be zero and so the training error rate should be zero as well since a zero criterion function implies that all points are classified correctly."
   ]
  }
 ],
 "metadata": {
  "interpreter": {
   "hash": "c56ca3609d35666c535b21e8eca1bf907b12d90c8862756640afa76760a7a6be"
  },
  "kernelspec": {
   "display_name": "Python 3.8.5 ('base')",
   "language": "python",
   "name": "python3"
  },
  "language_info": {
   "codemirror_mode": {
    "name": "ipython",
    "version": 3
   },
   "file_extension": ".py",
   "mimetype": "text/x-python",
   "name": "python",
   "nbconvert_exporter": "python",
   "pygments_lexer": "ipython3",
   "version": "3.8.5"
  },
  "orig_nbformat": 4
 },
 "nbformat": 4,
 "nbformat_minor": 2
}
