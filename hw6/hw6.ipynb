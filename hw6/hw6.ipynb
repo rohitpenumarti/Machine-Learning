{
 "cells": [
  {
   "cell_type": "code",
   "execution_count": 2,
   "metadata": {},
   "outputs": [],
   "source": [
    "import numpy as np\n",
    "import matplotlib.pyplot as plt"
   ]
  },
  {
   "cell_type": "markdown",
   "metadata": {},
   "source": [
    "# Problem 2\n",
    "## Part b)"
   ]
  },
  {
   "cell_type": "code",
   "execution_count": 204,
   "metadata": {},
   "outputs": [],
   "source": [
    "def create_matrix_eq(U, z):\n",
    "    A = np.zeros((4, 4))\n",
    "    Z = np.outer(z, z)\n",
    "    UTU = np.dot(U, U.T)\n",
    "    A[:3, :3] = np.multiply(Z, UTU)\n",
    "    A[3] = np.append(z, 0)\n",
    "    A[:, 3] = np.append(-z, 0)\n",
    "    b = np.array([1, 1, 1, 0])\n",
    "    return A, b\n",
    "\n",
    "def compute_rho(A, b):\n",
    "    Ainv = np.linalg.inv(A)\n",
    "    return np.dot(Ainv, b[:, np.newaxis])\n",
    "\n",
    "def check_lambda_KKT(rho, z, part_g=False):\n",
    "    check = np.sum(np.multiply(rho[:3], z))\n",
    "    if np.all(rho[:3] >= 0) and np.isclose(check, 0):\n",
    "        return True\n",
    "    else:\n",
    "        if part_g:\n",
    "            return True\n",
    "        else:\n",
    "            return False\n",
    "\n",
    "def recompute_rho(A, b, rho):\n",
    "    neg_indices = np.where(rho[:3]<0)[0]\n",
    "    sub_A = np.delete(np.delete(A, neg_indices, axis=1), neg_indices, axis=0)\n",
    "    sub_b = np.delete(b, neg_indices)\n",
    "    sub_A_inv = np.linalg.inv(sub_A)\n",
    "    tmp = np.dot(sub_A_inv, sub_b)\n",
    "    return np.insert(tmp, neg_indices, 0), neg_indices\n",
    "\n",
    "def calculate_optimal_weight(rho, z, U, neg_indices=None):\n",
    "    w_opt = np.sum(U*np.multiply(rho[:3], z)[:, np.newaxis], axis=0)\n",
    "    inner = np.dot(w_opt[:, np.newaxis].T, U.T).T\n",
    "    w0_opt = (np.divide(np.ones(z.shape), z)[:, np.newaxis]-inner)[:, 0]\n",
    "    if neg_indices is not None:\n",
    "        w0_opt = np.delete((np.divide(np.ones(z.shape), z)[:, np.newaxis]-inner)[:, 0], neg_indices)\n",
    "    \n",
    "    KKT_check1 = np.all(np.isclose(w0_opt/np.amax(w0_opt), 1))\n",
    "    check = z[:, np.newaxis]*(inner+w0_opt[0])-1\n",
    "    KKT_check2 = (np.isclose(check[0], 0) or check[0] > 0) and (np.isclose(check[1], 0) or check[1] > 0) and (np.isclose(check[1], 0) or check[1] > 0)\n",
    "    return w_opt, w0_opt[0], KKT_check1, KKT_check2\n",
    "\n",
    "def check_weight_KKT(KKT_check1, KKT_check2):\n",
    "    if KKT_check1 and KKT_check2:\n",
    "        return True\n",
    "    else:\n",
    "        return False\n",
    "\n",
    "def plot_dec_boundaries(w_opt, w0_opt, U, z):\n",
    "    m = -w_opt[0]/w_opt[1]\n",
    "    b = -w0_opt/w_opt[1]\n",
    "    x = np.linspace(-5, 5)\n",
    "    y = m*x+b\n",
    "    ax = 4\n",
    "    ay = m*ax+b\n",
    "    adx = 1\n",
    "    ady = -(1/m)*adx\n",
    "    plt.plot(x, y)\n",
    "    plt.arrow(ax, ay, adx, ady, shape='full', length_includes_head=True, head_width=0.1)\n",
    "    for u, z_val in zip(U, z):\n",
    "        if z_val == 1:\n",
    "            plt.plot(u[0], u[1], 'rx')\n",
    "        else:\n",
    "            plt.plot(u[0], u[1], 'bo')\n",
    "    \n",
    "    plt.show()\n",
    "\n",
    "def output(U, z, part_g=False):\n",
    "    A, b = create_matrix_eq(U, z)\n",
    "    rho = compute_rho(A, b).flatten()\n",
    "    check_lambda = check_lambda_KKT(rho, z)\n",
    "    neg_indices = None\n",
    "    if part_g and not np.all(rho[:3] >= 0):\n",
    "        tmp, tmp_neg = recompute_rho(A, b, rho)\n",
    "        rho = tmp.copy()\n",
    "        neg_indices = tmp_neg.copy()\n",
    "        check_lambda = check_lambda_KKT(rho, z)\n",
    "    \n",
    "    w_opt, w0_opt, KKT_check1, KKT_check2 = calculate_optimal_weight(rho, z, U, neg_indices)\n",
    "    check_weight = check_weight_KKT(KKT_check1, KKT_check2)\n",
    "\n",
    "    print(f\"(i) Lambda = {rho[:3]}, mu = {rho[3]}\\n(ii) Satisfies KKT conditions involving lambda: {check_lambda}\\n(iii) w* = {w_opt}, w0* = {w0_opt}\\n(iv) \" +\n",
    "            f\"Satisfies KKT conditions on nonaugmented weight and bias terms: {check_weight}\")\n",
    "    plot_dec_boundaries(w_opt, w0_opt, U, z)"
   ]
  },
  {
   "cell_type": "markdown",
   "metadata": {},
   "source": [
    "## Part c), d)"
   ]
  },
  {
   "cell_type": "code",
   "execution_count": 205,
   "metadata": {},
   "outputs": [
    {
     "name": "stdout",
     "output_type": "stream",
     "text": [
      "(i) Lambda = [0.22222222 0.22222222 0.44444444], mu = 1.0\n",
      "(ii) Satisfies KKT conditions involving lambda: True\n",
      "(iii) w* = [0.66666667 0.66666667], w0* = -1.0\n",
      "(iv) Satisfies KKT conditions on nonaugmented weight and bias terms: True\n"
     ]
    },
    {
     "data": {
      "image/png": "[encoded data removed]",
      "text/plain": [
       "<Figure size 432x288 with 1 Axes>"
      ]
     },
     "metadata": {
      "needs_background": "light"
     },
     "output_type": "display_data"
    }
   ],
   "source": [
    "u1 = np.array([1, 2])\n",
    "u2 = np.array([2, 1])\n",
    "u3 = np.array([0, 0])\n",
    "U = np.array([u1, u2, u3])\n",
    "z = np.array([1, 1, -1])\n",
    "output(U, z)"
   ]
  },
  {
   "cell_type": "markdown",
   "metadata": {},
   "source": [
    "## Part e)\n",
    "### The decision boundary does correctly classify the training data. The maximum-bargin boundary does seem like it will correctly classify the training data. This is because, from a glance at the plot, the points seem far enough away from the decision boundary to be comfortably out of the margin region for most reasonable choices for the value of b."
   ]
  },
  {
   "cell_type": "markdown",
   "metadata": {},
   "source": [
    "## Part f)"
   ]
  },
  {
   "cell_type": "code",
   "execution_count": 206,
   "metadata": {},
   "outputs": [
    {
     "name": "stdout",
     "output_type": "stream",
     "text": [
      "(i) Lambda = [2. 2. 4.], mu = 5.0\n",
      "(ii) Satisfies KKT conditions involving lambda: True\n",
      "(iii) w* = [2. 2.], w0* = -5.000000000000001\n",
      "(iv) Satisfies KKT conditions on nonaugmented weight and bias terms: True\n"
     ]
    },
    {
     "data": {
      "image/png": "[encoded data removed]",
      "text/plain": [
       "<Figure size 432x288 with 1 Axes>"
      ]
     },
     "metadata": {
      "needs_background": "light"
     },
     "output_type": "display_data"
    }
   ],
   "source": [
    "u1 = np.array([1, 2])\n",
    "u2 = np.array([2, 1])\n",
    "u3 = np.array([1, 1])\n",
    "U = np.array([u1, u2, u3])\n",
    "z = np.array([1, 1, -1])\n",
    "output(U, z)"
   ]
  },
  {
   "cell_type": "markdown",
   "metadata": {},
   "source": [
    "### The decision boundary does correctly classify the training data. The maximum-bargin boundary does not seem like it will correctly classify the training data. This is because, from a glance at the plot, the points seem too close to the decision boundary to be comfortably out of the margin region for some reasonable choices for the value of b.\n",
    "### (iv) The decision boundary has not changed significantly from d) to f). The only difference is that the intercept for the line is different whereas the slope remains the same."
   ]
  },
  {
   "cell_type": "markdown",
   "metadata": {},
   "source": [
    "## Part g)\n",
    "### (i) The boundary will change by some factor because the slope will change relative to f)."
   ]
  },
  {
   "cell_type": "code",
   "execution_count": 207,
   "metadata": {},
   "outputs": [
    {
     "name": "stdout",
     "output_type": "stream",
     "text": [
      "(i) Lambda = [1.6 0.  1.6], mu = 2.200000000000001\n",
      "(ii) Satisfies KKT conditions involving lambda: True\n",
      "(iii) w* = [1.6 0.8], w0* = -2.200000000000001\n",
      "(iv) Satisfies KKT conditions on nonaugmented weight and bias terms: True\n"
     ]
    },
    {
     "data": {
      "image/png": "[encoded data removed]",
      "text/plain": [
       "<Figure size 432x288 with 1 Axes>"
      ]
     },
     "metadata": {
      "needs_background": "light"
     },
     "output_type": "display_data"
    }
   ],
   "source": [
    "u1 = np.array([1, 2])\n",
    "u2 = np.array([2, 1])\n",
    "u3 = np.array([0, 1.5])\n",
    "U = np.array([u1, u2, u3])\n",
    "z = np.array([1, 1, -1])\n",
    "output(U, z, True)"
   ]
  },
  {
   "cell_type": "markdown",
   "metadata": {},
   "source": [
    "### The decision boundary does correctly classify the training data. The maximum-bargin boundary does not seem like it will correctly classify the training data. This is because, from a glance at the plot, the points seem too close to the decision boundary to be comfortably out of the margin region for some reasonable choices for the value of b.\n",
    "### (v) The decision boundary has changed because now the slope of the line is -2 as opposed to -1 which was the value for the slope of the decision line in parts d) and f). Furthermore, the intercept has also changed."
   ]
  }
 ],
 "metadata": {
  "interpreter": {
   "hash": "c56ca3609d35666c535b21e8eca1bf907b12d90c8862756640afa76760a7a6be"
  },
  "kernelspec": {
   "display_name": "Python 3.8.5 ('base')",
   "language": "python",
   "name": "python3"
  },
  "language_info": {
   "codemirror_mode": {
    "name": "ipython",
    "version": 3
   },
   "file_extension": ".py",
   "mimetype": "text/x-python",
   "name": "python",
   "nbconvert_exporter": "python",
   "pygments_lexer": "ipython3",
   "version": "3.8.5"
  },
  "orig_nbformat": 4
 },
 "nbformat": 4,
 "nbformat_minor": 2
}
